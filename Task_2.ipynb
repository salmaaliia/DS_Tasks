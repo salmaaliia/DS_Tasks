{
  "nbformat": 4,
  "nbformat_minor": 0,
  "metadata": {
    "colab": {
      "provenance": [],
      "include_colab_link": true
    },
    "kernelspec": {
      "name": "python3",
      "display_name": "Python 3"
    },
    "language_info": {
      "name": "python"
    }
  },
  "cells": [
    {
      "cell_type": "markdown",
      "metadata": {
        "id": "view-in-github",
        "colab_type": "text"
      },
      "source": [
        "<a href=\"https://colab.research.google.com/github/salmaali81/IEEE_DS_Tasks/blob/master/BegginersTask_2.ipynb\" target=\"_parent\"><img src=\"https://colab.research.google.com/assets/colab-badge.svg\" alt=\"Open In Colab\"/></a>"
      ]
    },
    {
      "cell_type": "markdown",
      "source": [
        "#**Task_2  ^_^**\n",
        "\n",
        "---"
      ],
      "metadata": {
        "id": "HqjLIidRrJI4"
      }
    },
    {
      "cell_type": "markdown",
      "source": [
        "# <font color='red'> 1) Mark down all the Valid function-calls for this function: </font>\n",
        "\n",
        "\n",
        "# def fun1(name, age):<br> ..... print(name,age)\n",
        "\n",
        "\n",
        "\n",
        "\n",
        "\n",
        "\n",
        "<br> </br>\n",
        "#### A) fun1( \"Emma\"  ,  23 )\n",
        "<br> </br>\n",
        "#### B) fun1( age = 23  ,  name = \"Emma\" )\n",
        "<br> </br>\n",
        "#### C) fun1( \"Emma\"  ,  age = 23 )\n",
        "<br> </br>\n",
        "#### D) fun1( name = \"Emma\" ,  23 )\n",
        "<br> </br>\n",
        "#### E) fun1( age = 23  ,  \"Emma\" )"
      ],
      "metadata": {
        "id": "W3zZBdg0raRU"
      }
    },
    {
      "cell_type": "code",
      "source": [
        "A = True #@param {type:\"boolean\"}\n",
        "B = True #@param {type:\"boolean\"}\n",
        "C = True #@param {type:\"boolean\"}\n",
        "D = False #@param {type:\"boolean\"}\n",
        "E = False #@param {type:\"boolean\"}\n"
      ],
      "metadata": {
        "id": "oUiqgPmFr3Y5"
      },
      "execution_count": null,
      "outputs": []
    },
    {
      "cell_type": "markdown",
      "source": [
        "# <font color='red'> 2) Debug the following code and correct the Error to make the output = 15: </font>\n",
        "\n",
        "\n",
        "    \n",
        "    def outer_fun(a, b , c):\n",
        "        def inner_fun(d , e):\n",
        "            return d + e\n",
        "\n",
        "        return inner_fun(a, b , c)\n",
        "        return a\n",
        "\n",
        "    result = outer_fun(5, 10)\n",
        "    print(result)"
      ],
      "metadata": {
        "id": "iQIcizgYsGJ-"
      }
    },
    {
      "cell_type": "code",
      "source": [
        "def outer_fun(a, b , c=0):\n",
        "    def inner_fun(d , e):\n",
        "        return d + e\n",
        "\n",
        "    return inner_fun(a, b)\n",
        "\n",
        "result = outer_fun(5, 10)\n",
        "print(result)"
      ],
      "metadata": {
        "id": "Nhi1O8T9sUwM"
      },
      "execution_count": null,
      "outputs": []
    },
    {
      "cell_type": "code",
      "source": [],
      "metadata": {
        "id": "LHfUftHysbQw"
      },
      "execution_count": null,
      "outputs": []
    },
    {
      "cell_type": "markdown",
      "source": [
        "# <font color='red'> 3) Debug the following code and correct the Error to make the output = 16: </font>\n",
        "\n",
        "    def f1(x):\n",
        "        global x\n",
        "        x+=1\n",
        "        print(x)\n",
        "    f1(15)"
      ],
      "metadata": {
        "id": "AYpH9KvysT7D"
      }
    },
    {
      "cell_type": "code",
      "source": [
        "def f1(x):\n",
        "    #global x\n",
        "    x+=1\n",
        "    print(x)\n",
        "f1(15)"
      ],
      "metadata": {
        "id": "H6ZiDEOcsc8J"
      },
      "execution_count": null,
      "outputs": []
    },
    {
      "cell_type": "code",
      "source": [],
      "metadata": {
        "id": "87FowQ96scTC"
      },
      "execution_count": null,
      "outputs": []
    },
    {
      "cell_type": "markdown",
      "source": [
        "# <font color='red'> 4) Write a function that takes any variable \"n\" and return its factorial: </font>\n",
        "\n",
        "##### **hint:** factorial of 5 = 5 x 4 x 3 x 2 x **1**"
      ],
      "metadata": {
        "id": "DO43cMEjsdxb"
      }
    },
    {
      "cell_type": "code",
      "source": [
        "def fact(x):\n",
        "    fac=1\n",
        "    i =1\n",
        "    if (x==0):\n",
        "        return 1\n",
        "    else:\n",
        "        while i <= x:\n",
        "            fac *= i\n",
        "            i += 1\n",
        "        return fac\n",
        "n = int(input())\n",
        "print(fact(n))"
      ],
      "metadata": {
        "id": "HDOOP5Xlsk2a",
        "colab": {
          "base_uri": "https://localhost:8080/"
        },
        "outputId": "ecdc602e-9958-453e-db6c-ff63ce5fa50c"
      },
      "execution_count": null,
      "outputs": [
        {
          "output_type": "stream",
          "name": "stdout",
          "text": [
            "7\n",
            "5040\n"
          ]
        }
      ]
    },
    {
      "cell_type": "code",
      "source": [],
      "metadata": {
        "id": "1QYBK580skq8"
      },
      "execution_count": null,
      "outputs": []
    },
    {
      "cell_type": "markdown",
      "source": [
        "# <font color='red'> 5) Write a code to print the following dictionary after: </font>\n",
        "* # Ordering the values of each Key and the print the key witht highest value.\n",
        "\n",
        "\n",
        "> **`dict ={ \"Ahmed\": (50 , 30 , 40) , \"Mohammed\": (15 , 10 , 25) , \"Khaled\": (10 , 40 , 20) }`**\n",
        "\n",
        "\n",
        "# The output should be:\n",
        "* `{\"Ahmed\": (50 , 40 , 30) , \"Mohammed\": (25 , 15 , 10) , \"Khaled\": (40 , 20 , 10)}`\n",
        "* `Ahmed`"
      ],
      "metadata": {
        "id": "Iqkj_-JXslnv"
      }
    },
    {
      "cell_type": "code",
      "source": [
        "d = {\"Ahmed\": (50 , 30 , 40) , \"Mohammed\": (15 , 10 , 25) , \"Khaled\": (10 , 40 , 20)}\n",
        "m=0\n",
        "for k in d:\n",
        "    d[k]=tuple(sorted(d[k],reverse=True))\n",
        "    if max(d[k])>m:\n",
        "        m=max(d[k])\n",
        "        ans =k\n",
        "\n",
        "print(d)\n",
        "print(ans)"
      ],
      "metadata": {
        "id": "4KukOajzst0n",
        "colab": {
          "base_uri": "https://localhost:8080/"
        },
        "outputId": "a618a6b3-4923-4f8b-ebce-2377926216ee"
      },
      "execution_count": null,
      "outputs": [
        {
          "output_type": "stream",
          "name": "stdout",
          "text": [
            "{'Ahmed': (50, 40, 30), 'Mohammed': (25, 15, 10), 'Khaled': (40, 20, 10)}\n",
            "Ahmed\n"
          ]
        }
      ]
    },
    {
      "cell_type": "code",
      "source": [],
      "metadata": {
        "id": "a-iNbiItstos"
      },
      "execution_count": null,
      "outputs": []
    },
    {
      "cell_type": "markdown",
      "source": [
        "# <font color='red'> 6) Write a Python function that accepts a string and counts the number of upper and lower case letters. </font>\n",
        "* ## Sample String : \"Do not Postpone today's Work To tomoRRow\"\n",
        "\n",
        "# Expected Output :\n",
        "* `No. of Upper case characters :  6`\n",
        "* `No. of Lower case Characters :  27 `\n",
        "\n",
        "\n",
        "\n",
        "\n",
        "\n"
      ],
      "metadata": {
        "id": "JIDxmPLrteLT"
      }
    },
    {
      "cell_type": "code",
      "source": [
        "def LAcount(s):\n",
        "    lc=0\n",
        "    ac=0\n",
        "    i =0\n",
        "    while i<len(s):\n",
        "        if s[i].islower():\n",
        "            lc+=1\n",
        "        elif s[i].isupper() :\n",
        "            ac+=1\n",
        "        i+=1\n",
        "    return lc,ac\n",
        "s = input()\n",
        "print(\"No. of Upper case characters : \", LAcount(s)[1])\n",
        "print(\"No. of Lower case Characters : \",LAcount(s)[0])\n",
        "\n"
      ],
      "metadata": {
        "id": "P3csHw_ZuowG",
        "outputId": "515fe6dd-1646-407f-c45e-669db83d6218",
        "colab": {
          "base_uri": "https://localhost:8080/"
        }
      },
      "execution_count": 9,
      "outputs": [
        {
          "output_type": "stream",
          "name": "stdout",
          "text": [
            "Do not Postpone today's Work To tomoRRow\n",
            "No. of Upper case characters :  6\n",
            "No. of Lower case Characters :  27\n"
          ]
        }
      ]
    },
    {
      "cell_type": "markdown",
      "source": [
        "# <font color='red'> 7) Write a Python function that two numbers N & M and print the summation of their last digits . </font>\n",
        "\n",
        "# * `Input :  13  12`\n",
        "# * `Output: 5`"
      ],
      "metadata": {
        "id": "nzWE8GrKusWX"
      }
    },
    {
      "cell_type": "code",
      "source": [
        "def sum(n,m):\n",
        "    return int(n[-1])+int(m[-1])\n",
        "\n",
        "n,m=input().split()\n",
        "print(sum(n,m))"
      ],
      "metadata": {
        "id": "CoVidok6wP4n"
      },
      "execution_count": null,
      "outputs": []
    },
    {
      "cell_type": "markdown",
      "source": [
        "# <font color='red'> 8) Your input is corresponding to a person's age (in days). print his age in years, months and days, followed by its respective message \"years\", \"months\" and \"days\" . </font>\n",
        "\n",
        "# * `Input :  400`\n",
        "# * `Output:  1 year  1 months  5 days`"
      ],
      "metadata": {
        "id": "GFVRG4HywQxr"
      }
    },
    {
      "cell_type": "code",
      "source": [
        "a = int(input())\n",
        "y = a//365\n",
        "m=0\n",
        "d=0\n",
        "if a%365!=0:\n",
        "    mod = a%365\n",
        "    m=mod//30\n",
        "    d = a-(y*365+m*30)\n",
        "if y==1:\n",
        "  ys=\"\"\n",
        "else:\n",
        "  ys=\"s\"\n",
        "if m==1:\n",
        "  ms=\"\"\n",
        "else:\n",
        "  ms=\"s\"\n",
        "if d==1:\n",
        "  ds=\"\"\n",
        "else:\n",
        "  ds=\"s\"\n",
        "\n",
        "print(\"{} year{}, {} month{}, {} day{}\".format(y,ys,m,ms,d,ds))"
      ],
      "metadata": {
        "id": "xeVfv60iwP1N",
        "colab": {
          "base_uri": "https://localhost:8080/"
        },
        "outputId": "4eab6fa8-340e-4507-fc06-a45e1dd1ad27"
      },
      "execution_count": null,
      "outputs": [
        {
          "output_type": "stream",
          "name": "stdout",
          "text": [
            "450\n",
            "1 year, 2 months, 25 days\n"
          ]
        }
      ]
    },
    {
      "cell_type": "markdown",
      "source": [
        "# <font color='red'> **Solve these problems with python**:<br>\n",
        "<a href='https://codeforces.com/group/6Yv6FRlDFU/contest/327653/problem/C'> **problem 1** </a> </font>\n",
        "    <br>\n",
        "    <br>\n",
        "<a href='https://codeforces.com/group/6Yv6FRlDFU/contest/327653/problem/A'> **problem 2** </a> </font>"
      ],
      "metadata": {
        "id": "-DK6SmIpsuhs"
      }
    },
    {
      "cell_type": "code",
      "source": [
        "# problem_1 Link"
      ],
      "metadata": {
        "id": "WWY0KOEFtPQd"
      },
      "execution_count": null,
      "outputs": []
    },
    {
      "cell_type": "code",
      "source": [
        "\n",
        "n = int(input())\n",
        "s= input()\n",
        "\n",
        "q=[s[0]]\n",
        "i=0\n",
        "j=0\n",
        "while i< len(s):\n",
        "    if s[i]!=q[j]:\n",
        "        q.append(s[i])\n",
        "        j+=1\n",
        "    i+=1\n",
        "print(n-len(q))"
      ],
      "metadata": {
        "id": "6hITO3GAta6P"
      },
      "execution_count": null,
      "outputs": []
    },
    {
      "cell_type": "code",
      "source": [
        "n=int(input())\n",
        "s=input()\n",
        "c=0\n",
        "for i in range (n-1):\n",
        "    if (s[i]==s[i+1]):\n",
        "        c+=1\n",
        "print(c)"
      ],
      "metadata": {
        "id": "1dIh9iKUTcPt"
      },
      "execution_count": null,
      "outputs": []
    },
    {
      "cell_type": "code",
      "source": [
        "# problem_2 Link"
      ],
      "metadata": {
        "id": "fbcnnzhEtPE4"
      },
      "execution_count": null,
      "outputs": []
    },
    {
      "cell_type": "code",
      "source": [
        "n,m = input().split()\n",
        "n=int(n)\n",
        "m=int(m)\n",
        "c=0\n",
        "for i in range(1,n+1):\n",
        "    if i%2!=0:\n",
        "        print(\"#\"*m)\n",
        "    else:\n",
        "        if c==0:\n",
        "            print(\".\"*(m-1)+\"#\")\n",
        "            c=1\n",
        "        elif c==1:\n",
        "            print(\"#\"+\".\"*(m-1))\n",
        "            c=0"
      ],
      "metadata": {
        "id": "e1XcNAVUtb0i"
      },
      "execution_count": null,
      "outputs": []
    }
  ]
}
