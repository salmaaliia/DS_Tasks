{
  "cells": [
    {
      "cell_type": "markdown",
      "metadata": {
        "id": "view-in-github",
        "colab_type": "text"
      },
      "source": [
        "<a href=\"https://colab.research.google.com/github/salmaali81/IEEE_DS_Tasks/blob/master/Task_4.ipynb\" target=\"_parent\"><img src=\"https://colab.research.google.com/assets/colab-badge.svg\" alt=\"Open In Colab\"/></a>"
      ]
    },
    {
      "cell_type": "markdown",
      "id": "01b6368a",
      "metadata": {
        "id": "01b6368a"
      },
      "source": [
        "<h1 align='center'><font color='red'> Task_4\n"
      ]
    },
    {
      "cell_type": "markdown",
      "id": "ce58d89a",
      "metadata": {
        "id": "ce58d89a"
      },
      "source": [
        "1. [NumPy](#NumPy)\n",
        "1. [oop](#oop)\n",
        "3. [ProblemSolving](#ProblemSolving)\n"
      ]
    },
    {
      "cell_type": "markdown",
      "id": "b4e00004",
      "metadata": {
        "id": "b4e00004"
      },
      "source": [
        "<a id='NumPy'></a>\n",
        "<h1><font color='red'> NumPy"
      ]
    },
    {
      "cell_type": "markdown",
      "id": "47431e1d",
      "metadata": {
        "id": "47431e1d"
      },
      "source": [
        "## 1.What does NumPy stand for?"
      ]
    },
    {
      "cell_type": "markdown",
      "id": "d41a0dbf",
      "metadata": {
        "id": "d41a0dbf"
      },
      "source": [
        "\n",
        "#### A) Number Python\n",
        "#### B)Numerator Python\n",
        "#### C) Numerical Python\n",
        "#### D)There is no full form, it is a stand-alone word  \n"
      ]
    },
    {
      "cell_type": "code",
      "source": [
        "A = False #@param {type:\"boolean\"}\n",
        "B = False #@param {type:\"boolean\"}\n",
        "C = True #@param {type:\"boolean\"}\n",
        "D = False #@param {type:\"boolean\"}\n"
      ],
      "metadata": {
        "id": "zMrpHpmJ-_Il"
      },
      "id": "zMrpHpmJ-_Il",
      "execution_count": null,
      "outputs": []
    },
    {
      "cell_type": "markdown",
      "id": "25547c4f",
      "metadata": {
        "id": "25547c4f"
      },
      "source": [
        "## 2.What does the size attribute in numpy use to find?"
      ]
    },
    {
      "cell_type": "markdown",
      "id": "5d3bce4d",
      "metadata": {
        "id": "5d3bce4d"
      },
      "source": [
        "\n",
        "#### A) number of items\n",
        "#### B)shape\n",
        "#### C) date & time\n",
        "#### D)unique items\n",
        "    "
      ]
    },
    {
      "cell_type": "code",
      "source": [
        "A = True #@param {type:\"boolean\"}\n",
        "B = False #@param {type:\"boolean\"}\n",
        "C = False #@param {type:\"boolean\"}\n",
        "D = False #@param {type:\"boolean\"}"
      ],
      "metadata": {
        "id": "_zRmM_HQ_YyR"
      },
      "id": "_zRmM_HQ_YyR",
      "execution_count": null,
      "outputs": []
    },
    {
      "cell_type": "markdown",
      "id": "3280ba3a",
      "metadata": {
        "id": "3280ba3a"
      },
      "source": [
        "### 3.What is the purpose of zero() function?"
      ]
    },
    {
      "cell_type": "markdown",
      "id": "b52b7109",
      "metadata": {
        "id": "b52b7109"
      },
      "source": [
        "#### A) To create a matrix with the first row and first column as 0\n",
        "#### B) To create a matrix with diagonal elements as 0\n",
        "#### C) To create a matrix with all elements as 0\n",
        "#### D) To return an integer number 0\n"
      ]
    },
    {
      "cell_type": "code",
      "source": [
        "A = False #@param {type:\"boolean\"}\n",
        "B = False #@param {type:\"boolean\"}\n",
        "C = True #@param {type:\"boolean\"}\n",
        "D = False #@param {type:\"boolean\"}"
      ],
      "metadata": {
        "id": "-74WzwGj__cZ"
      },
      "id": "-74WzwGj__cZ",
      "execution_count": null,
      "outputs": []
    },
    {
      "cell_type": "markdown",
      "id": "3618682c",
      "metadata": {
        "id": "3618682c"
      },
      "source": [
        "<h1><font color='red'> Answer these question"
      ]
    },
    {
      "cell_type": "markdown",
      "id": "e69e4a90",
      "metadata": {
        "id": "e69e4a90"
      },
      "source": [
        "### 4- create 1D, 2D and 3D arrays in NumPy? then returns the type of the elements stored in the NumPy array."
      ]
    },
    {
      "cell_type": "code",
      "execution_count": null,
      "id": "9c191a1e",
      "metadata": {
        "id": "9c191a1e",
        "colab": {
          "base_uri": "https://localhost:8080/"
        },
        "outputId": "87ed01e0-5893-413f-d7bf-ad886d970c52"
      },
      "outputs": [
        {
          "output_type": "stream",
          "name": "stdout",
          "text": [
            "int64\n",
            "1\n"
          ]
        }
      ],
      "source": [
        "# One-Dimensional array\n",
        "import numpy as np\n",
        "array_1D = np.array([1, 2, 3])\n",
        "print(array_1D.dtype)\n",
        "print(array_1D.ndim)\n",
        "\n"
      ]
    },
    {
      "cell_type": "code",
      "execution_count": null,
      "id": "94c39d76",
      "metadata": {
        "id": "94c39d76",
        "colab": {
          "base_uri": "https://localhost:8080/"
        },
        "outputId": "14115cb1-6aa3-4fa6-a94a-96386907611f"
      },
      "outputs": [
        {
          "output_type": "stream",
          "name": "stdout",
          "text": [
            "float64\n",
            "2\n"
          ]
        }
      ],
      "source": [
        "# Two-Dimensional array\n",
        "array_2D = np.array([[1, 2, 3], [1.2, 2.5, 8.5]])\n",
        "print(array_2D.dtype)\n",
        "print(array_2D.ndim)\n",
        "\n",
        "\n"
      ]
    },
    {
      "cell_type": "code",
      "execution_count": null,
      "id": "be5ef3e2",
      "metadata": {
        "id": "be5ef3e2",
        "colab": {
          "base_uri": "https://localhost:8080/"
        },
        "outputId": "b0d5110c-b02f-4b9e-c1f0-a8bb109563ae"
      },
      "outputs": [
        {
          "output_type": "stream",
          "name": "stdout",
          "text": [
            "<U32\n",
            "3\n"
          ]
        }
      ],
      "source": [
        "# Three-Dimensional array\n",
        "array_3D = np.array([[[1, 2, 3], [1.2, 2.5, 8.5]], [['a', 's', 'm'], ['salma', 'sayed', 'ali']]])\n",
        "print(array_3D.dtype)\n",
        "print(array_3D.ndim)\n",
        "\n",
        "\n",
        "\n",
        "\n",
        "\n"
      ]
    },
    {
      "cell_type": "markdown",
      "id": "a7846d9f",
      "metadata": {
        "id": "a7846d9f"
      },
      "source": [
        "### 5-Reverse this array [[[1,2,3,4],[4,5,6,7],[7,8,9,10]]] in two ways......"
      ]
    },
    {
      "cell_type": "code",
      "execution_count": null,
      "id": "e98b8f1a",
      "metadata": {
        "id": "e98b8f1a",
        "colab": {
          "base_uri": "https://localhost:8080/"
        },
        "outputId": "1dacd5f3-31d6-40eb-fa9b-ea51642ee0fa"
      },
      "outputs": [
        {
          "output_type": "stream",
          "name": "stdout",
          "text": [
            "[[[10  9  8  7]\n",
            "  [ 7  6  5  4]\n",
            "  [ 4  3  2  1]]]\n"
          ]
        }
      ],
      "source": [
        "# Method one\n",
        "a = np.array([[[1,2,3,4],[4,5,6,7],[7,8,9,10]]])\n",
        "print(a[::-1,::-1,::-1])\n",
        "\n",
        "\n",
        "\n"
      ]
    },
    {
      "cell_type": "code",
      "execution_count": null,
      "id": "48627ad8",
      "metadata": {
        "id": "48627ad8",
        "colab": {
          "base_uri": "https://localhost:8080/"
        },
        "outputId": "9da43fc9-0dd6-43b3-b791-3a25203b369a"
      },
      "outputs": [
        {
          "output_type": "stream",
          "name": "stdout",
          "text": [
            "[[[ 7  8  9 10]\n",
            "  [ 4  5  6  7]\n",
            "  [ 1  2  3  4]]]\n"
          ]
        }
      ],
      "source": [
        "# Method two\n",
        "#>**hint**: use flipud function\n",
        "\n",
        "a = np.fliplr(a)\n",
        "print(a)\n",
        "\n",
        "\n",
        "\n"
      ]
    },
    {
      "cell_type": "markdown",
      "id": "e85f1615",
      "metadata": {
        "id": "e85f1615"
      },
      "source": [
        "## 6-Make this array as an array one dimensional"
      ]
    },
    {
      "cell_type": "code",
      "execution_count": null,
      "id": "ebb77e8a",
      "metadata": {
        "id": "ebb77e8a",
        "colab": {
          "base_uri": "https://localhost:8080/"
        },
        "outputId": "85b3f552-2c0a-4944-fbef-e0997129017f"
      },
      "outputs": [
        {
          "output_type": "stream",
          "name": "stdout",
          "text": [
            "[ 1  2  3  4  4  5  6  7  7  8  9 10]\n"
          ]
        }
      ],
      "source": [
        "a = np.array([[[1,2,3,4],[4,5,6,7],[7,8,9,10]]])\n",
        "a=a.flatten()\n",
        "print(a)"
      ]
    },
    {
      "cell_type": "code",
      "execution_count": null,
      "id": "72487dda",
      "metadata": {
        "id": "72487dda"
      },
      "outputs": [],
      "source": []
    },
    {
      "cell_type": "markdown",
      "id": "bc6fd424",
      "metadata": {
        "id": "bc6fd424"
      },
      "source": [
        "## 7- Create a 3X2 integer array and Prints its attributes\n",
        "* Note: The element must be a type of unsigned int16. And print the following Attributes:\n",
        "\n",
        "- The shape of an array.\n",
        "- Array dimensions.\n",
        "- The Length of each element of the array in bytes"
      ]
    },
    {
      "cell_type": "code",
      "execution_count": null,
      "id": "04f6f820",
      "metadata": {
        "id": "04f6f820",
        "colab": {
          "base_uri": "https://localhost:8080/"
        },
        "outputId": "900e48d9-dc58-40a0-dfe0-f9ca1edbd638"
      },
      "outputs": [
        {
          "output_type": "stream",
          "name": "stdout",
          "text": [
            "[[  1  55]\n",
            " [100  25]\n",
            " [ 32 150]]\n",
            "int16\n",
            "(3, 2)\n",
            "2\n",
            "2\n"
          ]
        }
      ],
      "source": [
        "r = np.array([[1, 55], [100, 25],[32, 150]])\n",
        "r = r.astype(np.int16)\n",
        "print(r)\n",
        "print(r.dtype)\n",
        "print(r.shape)\n",
        "print(r.ndim)\n",
        "print(r.itemsize)"
      ]
    },
    {
      "cell_type": "markdown",
      "id": "c80d388f",
      "metadata": {
        "id": "c80d388f"
      },
      "source": [
        "### 8- Return array of odd rows and even columns from below numpy array\n",
        "\n",
        "* # Ordering the values of each Key and the print the key witht highest value.\n",
        "\n",
        "\n",
        "> **`sampleArray = numpy.array([[3 ,6, 9, 12], [15 ,18, 21, 24],\n",
        "[27 ,30, 33, 36], [39 ,42, 45, 48], [51 ,54, 57, 60]])`**\n",
        "\n",
        "\n",
        "# The output should be:\n",
        "* `expexted output :\n",
        "[[ 3  6  9 12]\n",
        " [15 18 21 24]\n",
        " [27 30 33 36]\n",
        " [39 42 45 48]\n",
        " [51 54 57 60]]`\n",
        "\n",
        "* `Printing array of odd rows and even columns\n",
        "[[ 6 12]\n",
        " [30 36]\n",
        " [54 60]]`*"
      ]
    },
    {
      "cell_type": "code",
      "source": [
        "sampleArray = np.array([[3 ,6, 9, 12], [15 ,18, 21, 24], [27 ,30, 33, 36], [39 ,42, 45, 48], [51 ,54, 57, 60]])\n",
        "for i in range(len(sampleArray)):\n",
        "  sampleArray[i] = sorted(sampleArray[i])\n",
        "print(sampleArray)\n",
        "a=[]\n",
        "for i in range(len(sampleArray)):\n",
        "  s=[]\n",
        "  for j in range(len(sampleArray[i])):\n",
        "    if(((i+1)%2!=0) and ((j+1)%2==0)):\n",
        "      s.append(sampleArray[i,j])\n",
        "  if(len(s)!=0):\n",
        "    a.append(s)\n",
        "a = np.array(a)\n",
        "print(a)"
      ],
      "metadata": {
        "id": "lT-8p9Ml4NT6",
        "colab": {
          "base_uri": "https://localhost:8080/"
        },
        "outputId": "173311e1-016e-4d73-e60d-1b98bab6db5f"
      },
      "id": "lT-8p9Ml4NT6",
      "execution_count": null,
      "outputs": [
        {
          "output_type": "stream",
          "name": "stdout",
          "text": [
            "[[ 3  6  9 12]\n",
            " [15 18 21 24]\n",
            " [27 30 33 36]\n",
            " [39 42 45 48]\n",
            " [51 54 57 60]]\n",
            "[[ 6 12]\n",
            " [30 36]\n",
            " [54 60]]\n"
          ]
        }
      ]
    },
    {
      "cell_type": "markdown",
      "id": "eae73db7",
      "metadata": {
        "id": "eae73db7"
      },
      "source": [
        "## 9-How is np.mean() different from np.average() in NumPy?"
      ]
    },
    {
      "cell_type": "markdown",
      "source": [
        "The main difference between np.mean() and np.average() in NumPy is that np.mean() always calculates the arithmetic mean, while np.average() can calculate a weighted mean if the weights parameter is specified."
      ],
      "metadata": {
        "id": "8PrMDHaRL9d6"
      },
      "id": "8PrMDHaRL9d6"
    },
    {
      "cell_type": "markdown",
      "id": "81a2ddc8",
      "metadata": {
        "id": "81a2ddc8"
      },
      "source": [
        "## 10-Count the frequency of a given positive value appearing in this NumPy array\n",
        "## [1, 2, 1, 3, 5, 0, 0, 0, 2, 3] ?"
      ]
    },
    {
      "cell_type": "code",
      "execution_count": null,
      "id": "de7ee71c",
      "metadata": {
        "id": "de7ee71c",
        "colab": {
          "base_uri": "https://localhost:8080/"
        },
        "outputId": "c2163cc6-0c00-47de-d2b3-b535089c4422"
      },
      "outputs": [
        {
          "output_type": "stream",
          "name": "stdout",
          "text": [
            "1\n",
            "2\n"
          ]
        }
      ],
      "source": [
        "n =int(input())\n",
        "arr = np.array([1, 2, 1, 3, 5, 0, 0, 0, 2, 3])\n",
        "f = np.bincount(arr)\n",
        "print(f[n])"
      ]
    },
    {
      "cell_type": "markdown",
      "id": "dba015f1",
      "metadata": {
        "id": "dba015f1"
      },
      "source": [
        "## 11-Show how is arr[:,0] different from arr[:,[0]]"
      ]
    },
    {
      "cell_type": "markdown",
      "source": [
        "The main difference between arr[:, 0] and arr[:, [0]] is that arr[:, 0] selects the first column of the array, while arr[:, [0]] selects all rows of the array and the first column."
      ],
      "metadata": {
        "id": "DfYGpQbDN5Rg"
      },
      "id": "DfYGpQbDN5Rg"
    },
    {
      "cell_type": "code",
      "execution_count": null,
      "id": "6fe4ab56",
      "metadata": {
        "id": "6fe4ab56",
        "colab": {
          "base_uri": "https://localhost:8080/"
        },
        "outputId": "6c6b6d03-f86c-49ba-b2c4-8da62d42d6a4"
      },
      "outputs": [
        {
          "output_type": "stream",
          "name": "stdout",
          "text": [
            "[  1 100  32]\n",
            "[[  1]\n",
            " [100]\n",
            " [ 32]]\n"
          ]
        }
      ],
      "source": [
        "r = np.array([[1, 55], [100, 25], [32, 150]])\n",
        "print(r[:, 0])\n",
        "print(r[:, [0]])"
      ]
    },
    {
      "cell_type": "code",
      "execution_count": null,
      "id": "f4694086",
      "metadata": {
        "id": "f4694086"
      },
      "outputs": [],
      "source": []
    },
    {
      "cell_type": "markdown",
      "id": "6fe6ca1b",
      "metadata": {
        "id": "6fe6ca1b"
      },
      "source": [
        "### 12-How do you multiply these 2 NumPy array matrices [[15,16,17],[18,19,20],[21,22,23]]  &  [[20,21,22],[23,24,25],[26,27,28]] ?"
      ]
    },
    {
      "cell_type": "code",
      "execution_count": null,
      "id": "7500d7e4",
      "metadata": {
        "id": "7500d7e4"
      },
      "outputs": [],
      "source": [
        "a1 = np.array([[15,16,17],[18,19,20],[21,22,23]] )\n",
        "a2 = np.array([[20,21,22],[23,24,25],[26,27,28]] )"
      ]
    },
    {
      "cell_type": "code",
      "execution_count": null,
      "id": "f9f6a9c3",
      "metadata": {
        "id": "f9f6a9c3"
      },
      "outputs": [],
      "source": [
        "a3 = a1*a2"
      ]
    },
    {
      "cell_type": "code",
      "execution_count": null,
      "id": "29c487c4",
      "metadata": {
        "id": "29c487c4",
        "colab": {
          "base_uri": "https://localhost:8080/"
        },
        "outputId": "48a830d2-d651-4071-d901-6bb86d34eb45"
      },
      "outputs": [
        {
          "output_type": "stream",
          "name": "stdout",
          "text": [
            "[[300 336 374]\n",
            " [414 456 500]\n",
            " [546 594 644]]\n"
          ]
        }
      ],
      "source": [
        "print(a3)"
      ]
    },
    {
      "cell_type": "markdown",
      "id": "87e4e530",
      "metadata": {
        "id": "87e4e530"
      },
      "source": [
        "### 13 -Combine these 2 NumPy arrays [1,2,3] & [4,5,6] using vstack()     and hstack()"
      ]
    },
    {
      "cell_type": "code",
      "execution_count": null,
      "id": "8556f467",
      "metadata": {
        "id": "8556f467",
        "colab": {
          "base_uri": "https://localhost:8080/"
        },
        "outputId": "21119dc8-0735-4739-8fa6-9064683f8534"
      },
      "outputs": [
        {
          "output_type": "stream",
          "name": "stdout",
          "text": [
            "[1 2 3 4 5 6]\n",
            "[[1 2 3]\n",
            " [4 5 6]]\n"
          ]
        }
      ],
      "source": [
        "a1 = np.array([1,2,3])\n",
        "a2 = np.array([4,5,6])\n",
        "print(np.hstack([a1,a2]))\n",
        "print(np.vstack([a1,a2]))"
      ]
    },
    {
      "cell_type": "markdown",
      "id": "6d99f57e",
      "metadata": {
        "id": "6d99f57e"
      },
      "source": [
        "# <a id='oop'></a>\n",
        "<h1><font color='red'> oop"
      ]
    },
    {
      "cell_type": "markdown",
      "id": "d09ebaa6",
      "metadata": {
        "id": "d09ebaa6"
      },
      "source": [
        "# 1 - a \"class\" is ... </font>\n",
        "\n",
        "<br> </br>\n",
        "#### A) an instance variable\n",
        "#### B) a code template for creating object\n",
        "#### C) a function in python\n",
        "#### D) a synonym for methods"
      ]
    },
    {
      "cell_type": "code",
      "execution_count": null,
      "id": "dd8d79b8",
      "metadata": {
        "id": "dd8d79b8"
      },
      "outputs": [],
      "source": [
        "A = False #@param {type:\"boolean\"}\n",
        "B = True #@param {type:\"boolean\"}\n",
        "C = False #@param {type:\"boolean\"}\n",
        "D = False #@param {type:\"boolean\"}\n"
      ]
    },
    {
      "cell_type": "markdown",
      "id": "94da8748",
      "metadata": {
        "id": "94da8748"
      },
      "source": [
        "# 2- What is a \"docstring\" ?</font>\n",
        "<br> </br>\n",
        "#### A) it is a sting literal specified in source code that is used to explain or document a specific segment of code\n",
        "#### B) it is a class method that allows working with string documents\n",
        "#### C) it is an alternative name for instance vaeiables of type string apprearing in classes\n",
        "#### D) it is a synonym for code comments"
      ]
    },
    {
      "cell_type": "code",
      "execution_count": null,
      "id": "b3e6804e",
      "metadata": {
        "id": "b3e6804e"
      },
      "outputs": [],
      "source": [
        "A = True #@param {type:\"boolean\"}\n",
        "B = False #@param {type:\"boolean\"}\n",
        "C = False #@param {type:\"boolean\"}\n",
        "D = False #@param {type:\"boolean\"}\n"
      ]
    },
    {
      "cell_type": "markdown",
      "id": "0d792965",
      "metadata": {
        "id": "0d792965"
      },
      "source": [
        "## 3- Create a Bus class that inherits from the Vehicle class. Give the capacity argument of Bus.seating_capacity() a default value of 50.\n",
        "- Use the following code for your parent Vehicle class:.\n",
        ">   class Vehicle:\n",
        "    def __init__(self, name, max_speed, mileage):\n",
        "        self.name = name\n",
        "        self.max_speed = max_speed\n",
        "        self.mileage = mileage\n",
        "    def seating_capacity(self, capacity):\n",
        "        return f\"The seating capacity of a {self.name} is {capacity} passengers\n"
      ]
    },
    {
      "cell_type": "code",
      "execution_count": null,
      "id": "ca64451c",
      "metadata": {
        "id": "ca64451c",
        "colab": {
          "base_uri": "https://localhost:8080/"
        },
        "outputId": "4a7a27d6-7562-4039-ef8c-fe2c5b493671"
      },
      "outputs": [
        {
          "output_type": "stream",
          "name": "stdout",
          "text": [
            "The seating capacity of a School Bus is 50 passengers\n"
          ]
        }
      ],
      "source": [
        "class Vehicle:\n",
        "  def __init__(self, name, max_speed, mileage):\n",
        "    self.name = name\n",
        "    self.max_speed = max_speed\n",
        "    self.mileage = mileage\n",
        "\n",
        "class Bus(Vehicle):\n",
        "  def __init__(self, name, max_speed, mileage, capacity=50):\n",
        "    super().__init__(name, max_speed, mileage)\n",
        "    self.capacity = capacity\n",
        "\n",
        "  def seating_capacity(self):\n",
        "    return f\"The seating capacity of a {self.name} is {self.capacity} passengers\"\n",
        "\n",
        "bus = Bus(\"School Bus\", 60, 25)\n",
        "\n",
        "print(bus.seating_capacity())"
      ]
    },
    {
      "cell_type": "code",
      "execution_count": null,
      "id": "238fb7cc",
      "metadata": {
        "id": "238fb7cc"
      },
      "outputs": [],
      "source": []
    },
    {
      "cell_type": "markdown",
      "id": "DKUWVq49LxBa",
      "metadata": {
        "id": "DKUWVq49LxBa"
      },
      "source": [
        "# <a id='ProblemSolving'></a>\n",
        "<h1><font color='red'>Problem Solving\n"
      ]
    },
    {
      "cell_type": "markdown",
      "id": "MwvD232bMq32",
      "metadata": {
        "id": "MwvD232bMq32"
      },
      "source": [
        "<a href='https://codeforces.com/problemset/problem/339/A'> **problem 1**"
      ]
    },
    {
      "cell_type": "code",
      "execution_count": null,
      "id": "I5krJ01gLxBh",
      "metadata": {
        "id": "I5krJ01gLxBh"
      },
      "outputs": [],
      "source": [
        "# Problem_1 Link:\n",
        "s = input()\n",
        "a = s.split('+')\n",
        "a = sorted(a)\n",
        "a = '+'.join(a)\n",
        "print(a)\n",
        "\n"
      ]
    },
    {
      "cell_type": "markdown",
      "id": "DatcMQ4EM3Hb",
      "metadata": {
        "id": "DatcMQ4EM3Hb"
      },
      "source": [
        "<a href='https://codeforces.com/problemset/problem/118/A'> **problem 2**"
      ]
    },
    {
      "cell_type": "code",
      "execution_count": null,
      "id": "bR2YKH5fLxBh",
      "metadata": {
        "id": "bR2YKH5fLxBh"
      },
      "outputs": [],
      "source": [
        "# Problem_2 Link:\n",
        "s = input()\n",
        "s = s.lower()\n",
        "r=''\n",
        "v =['a', 'e', 'u', 'o', 'i', 'y']\n",
        "for i in s:\n",
        "    if(i not in v):\n",
        "        r = r + '.'+i\n",
        "print(r)\n",
        "\n"
      ]
    },
    {
      "cell_type": "code",
      "source": [],
      "metadata": {
        "id": "AJ7gAOh-aw8M"
      },
      "id": "AJ7gAOh-aw8M",
      "execution_count": null,
      "outputs": []
    }
  ],
  "metadata": {
    "colab": {
      "provenance": [],
      "include_colab_link": true
    },
    "kernelspec": {
      "display_name": "Python 3",
      "language": "python",
      "name": "python3"
    },
    "language_info": {
      "codemirror_mode": {
        "name": "ipython",
        "version": 3
      },
      "file_extension": ".py",
      "mimetype": "text/x-python",
      "name": "python",
      "nbconvert_exporter": "python",
      "pygments_lexer": "ipython3",
      "version": "3.8.8"
    }
  },
  "nbformat": 4,
  "nbformat_minor": 5
}